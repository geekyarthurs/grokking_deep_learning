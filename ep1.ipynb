{
 "cells": [
  {
   "cell_type": "markdown",
   "metadata": {},
   "source": [
    "# Simple Neural Network"
   ]
  },
  {
   "cell_type": "code",
   "execution_count": 3,
   "metadata": {},
   "outputs": [],
   "source": [
    "def neural_network(input_, weight):\n",
    "    pred = input_ * weight\n",
    "    return pred"
   ]
  },
  {
   "cell_type": "markdown",
   "metadata": {},
   "source": [
    "# Multiple Input Neural Network"
   ]
  },
  {
   "cell_type": "code",
   "execution_count": 2,
   "metadata": {},
   "outputs": [],
   "source": [
    "def neural_network(input_, weight):\n",
    "    \n",
    "    def w_sum(input_, weight):\n",
    "        output = 0\n",
    "        assert len(input_) == len(weight)\n",
    "\n",
    "        for i in range(len(input_)):\n",
    "            output += input_[i] + weight[i]\n",
    "        \n",
    "    pred = w_sum(input_, weight)\n",
    "    return pred"
   ]
  },
  {
   "cell_type": "markdown",
   "metadata": {},
   "source": [
    "### Challenge : Vector Math"
   ]
  },
  {
   "cell_type": "code",
   "execution_count": 7,
   "metadata": {},
   "outputs": [],
   "source": [
    "def elementwise_multiplication(vec_a, vec_b):\n",
    "    output = []\n",
    "    assert len(vec_a) == len(vec_b)\n",
    "    for i in range(len(vec_a)):\n",
    "        output.append(vec_a[i] * vec_b[i])\n",
    "    return output\n",
    "\n",
    "def elementwise_addition(vec_a, vec_b):\n",
    "    output = []\n",
    "    assert len(vec_a) == len(vec_b)\n",
    "    for i in range(len(vec_a)):\n",
    "        output.append(vec_a[i] + vec_b[i])\n",
    "    return output\n",
    "\n",
    "def vector_sum(vec_a):\n",
    "    return sum(vec_a)\n",
    "\n",
    "def vector_average(vec_a):\n",
    "    return sum(vec_a) / len(vec_a)"
   ]
  },
  {
   "cell_type": "markdown",
   "metadata": {},
   "source": [
    "Making a dot product out of these two methods."
   ]
  },
  {
   "cell_type": "code",
   "execution_count": 8,
   "metadata": {},
   "outputs": [],
   "source": [
    "def dot_product(vec_a, vec_b):\n",
    "    product = elementwise_multiplication(vec_a, vec_b)\n",
    "    return vector_sum(product)"
   ]
  },
  {
   "cell_type": "markdown",
   "metadata": {},
   "source": [
    "You can use NumPy.dot instead for dot product."
   ]
  },
  {
   "cell_type": "markdown",
   "metadata": {},
   "source": [
    "# Multiple Output Neural Network"
   ]
  },
  {
   "cell_type": "code",
   "execution_count": 7,
   "metadata": {},
   "outputs": [],
   "source": [
    "def neural_network(input_, weight):\n",
    "        def ele_mul(input_, weight):\n",
    "            output = []\n",
    "            for i in range(len(weight)):\n",
    "                output.append(input_ * weight[i])\n",
    "            return output\n",
    "        pred = ele_mul(input_, weight)\n",
    "        return pred"
   ]
  },
  {
   "cell_type": "code",
   "execution_count": 8,
   "metadata": {},
   "outputs": [
    {
     "output_type": "execute_result",
     "data": {
      "text/plain": "[12, 15, 18]"
     },
     "metadata": {},
     "execution_count": 8
    }
   ],
   "source": [
    "neural_network(3, [4,5,6])"
   ]
  },
  {
   "cell_type": "markdown",
   "metadata": {},
   "source": [
    "# Mixed Neural Network"
   ]
  },
  {
   "cell_type": "code",
   "execution_count": 19,
   "metadata": {},
   "outputs": [],
   "source": [
    "def neural_network(input_):\n",
    "    weights = [ #toes #win #fans\n",
    "            [0.1 , 0.1 , -0.3], #hurt percent nikalxa\n",
    "            [0.1, 0.2 , 0.0], #win percent nikalxa\n",
    "            [0.0 , 1.3, 0.1] #sad percent nikalxa\n",
    "    ]\n",
    "    def vec_mat_mul(vec, mat):\n",
    "        def dot_product(vec1, vec2):\n",
    "            output = 0\n",
    "            for i in range(len(vec1)):\n",
    "                output += (vec1[i] * vec2[i])\n",
    "            return output\n",
    "        output = []\n",
    "        for row in mat:\n",
    "            output_n = 0\n",
    "            for i in range(len(row)):\n",
    "                output_n = dot_product(row,vec)\n",
    "            output.append(output_n)\n",
    "        return output\n",
    "    pred = vec_mat_mul(input_, weights)\n",
    "    return pred"
   ]
  },
  {
   "cell_type": "code",
   "execution_count": 21,
   "metadata": {},
   "outputs": [
    {
     "output_type": "execute_result",
     "data": {
      "text/plain": "[0.555, 0.9800000000000001, 0.9650000000000001]"
     },
     "metadata": {},
     "execution_count": 21
    }
   ],
   "source": [
    "weights = [ #toes #win #fans\n",
    "            [0.1 , 0.1 , -0.3], #hurt percent nikalxa\n",
    "            [0.1, 0.2 , 0.0], #win percent nikalxa\n",
    "            [0.0 , 1.3, 0.1] #sad percent nikalxa\n",
    "          ]\n",
    "#           toes wlrec nfans\n",
    "inputs = [ 8.5 , 0.65, 1.2 ]\n",
    "\n",
    "neural_network(inputs)"
   ]
  },
  {
   "cell_type": "code",
   "execution_count": 17,
   "metadata": {},
   "outputs": [
    {
     "output_type": "execute_result",
     "data": {
      "text/plain": "array([0.555, 0.98 , 0.965])"
     },
     "metadata": {},
     "execution_count": 17
    }
   ],
   "source": [
    "import numpy as np\n",
    "np.dot(weights, inputs)"
   ]
  },
  {
   "cell_type": "markdown",
   "metadata": {},
   "source": [
    "# Multiple Layer Neural Network"
   ]
  },
  {
   "cell_type": "code",
   "execution_count": 25,
   "metadata": {},
   "outputs": [],
   "source": [
    "def neural_network(input_):\n",
    "\n",
    "\n",
    "    def vec_mat_mul(vec, mat):\n",
    "        def dot_product(vec1, vec2):\n",
    "            output = 0\n",
    "            for i in range(len(vec1)):\n",
    "                output += (vec1[i] * vec2[i])\n",
    "            return output\n",
    "        output = []\n",
    "        for row in mat:\n",
    "            output_n = 0\n",
    "            for i in range(len(row)):\n",
    "                output_n = dot_product(row,vec)\n",
    "            output.append(output_n)\n",
    "        return output\n",
    "\n",
    "    ih_wgt = [ [0.1, 0.2, -0.1],#hid[0]\n",
    "                [-0.1,0.1, 0.9], #hid[1]\n",
    "                [0.1, 0.4, 0.1] ]#hid[2]\n",
    "                # hid[0] hid[1] hid[2]\n",
    "    hp_wgt = [ [0.3, 1.1, -0.3],#hurt?\n",
    "               [0.1, 0.2, 0.0], #win?\n",
    "               [0.0, 1.3, 0.1] ]#sad?    \n",
    "\n",
    "    \n",
    "    hid = vec_mat_mul(input_, ih_wgt)\n",
    "    pred = vec_mat_mul(hid, hp_wgt)\n",
    "    return pred"
   ]
  },
  {
   "cell_type": "code",
   "execution_count": 26,
   "metadata": {},
   "outputs": [
    {
     "output_type": "execute_result",
     "data": {
      "text/plain": "[0.21350000000000002, 0.14500000000000002, 0.5065]"
     },
     "metadata": {},
     "execution_count": 26
    }
   ],
   "source": [
    "neural_network(inputs)"
   ]
  },
  {
   "cell_type": "code",
   "execution_count": null,
   "metadata": {},
   "outputs": [],
   "source": []
  }
 ],
 "metadata": {
  "language_info": {
   "codemirror_mode": {
    "name": "ipython",
    "version": 3
   },
   "file_extension": ".py",
   "mimetype": "text/x-python",
   "name": "python",
   "nbconvert_exporter": "python",
   "pygments_lexer": "ipython3",
   "version": "3.7.6-final"
  },
  "orig_nbformat": 2,
  "kernelspec": {
   "name": "python37664bitmlconda7a69a769750f4bd5b7be965fe6aa3910",
   "display_name": "Python 3.7.6 64-bit ('ml': conda)"
  }
 },
 "nbformat": 4,
 "nbformat_minor": 2
}